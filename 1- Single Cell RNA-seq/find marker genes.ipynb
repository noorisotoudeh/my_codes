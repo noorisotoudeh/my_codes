{
 "cells": [
  {
   "cell_type": "code",
   "execution_count": null,
   "metadata": {},
   "outputs": [],
   "source": [
    "suppressPackageStartupMessages(library(scater))\n",
    "suppressPackageStartupMessages(library(igraph))\n",
    "suppressPackageStartupMessages(library(Seurat))\n",
    "suppressPackageStartupMessages(library(reshape2))\n",
    "suppressPackageStartupMessages((library(FNN)))\n",
    "suppressPackageStartupMessages(library(scran))\n",
    "suppressPackageStartupMessages(library(biomaRt))\n",
    "suppressPackageStartupMessages(library(\"xlsx\"))\n",
    "suppressPackageStartupMessages(library(\"readxl\"))\n",
    "suppressPackageStartupMessages(library(RColorBrewer))\n",
    "suppressPackageStartupMessages(library(RColorBrewer))\n",
    "suppressPackageStartupMessages(library(\"ggpubr\") )\n",
    "suppressPackageStartupMessages(library(ggpmisc))\n",
    "suppressPackageStartupMessages(library(ggplot2))\n",
    "suppressPackageStartupMessages(library(dplyr))\n",
    "options(repr.plot.width = 9, repr.plot.height = 7, repr.plot.res = 100)\n"
   ]
  },
  {
   "cell_type": "code",
   "execution_count": null,
   "metadata": {},
   "outputs": [],
   "source": [
    "markers_root_end_clusters <- findMarkers(assay(new_data4_no_dup,\"logcounts\")\n",
    "                                         ,new_data4_no_dup$BinaryCell_w_new_def\n",
    "                                         , pval.type=c(\"any\", \"some\", \"all\")\n",
    "#                                          ,direction=c(\"any\")\n",
    "                                         ,direction=c(\"any\",\"up\",\"down\")\n",
    "                                        )\n"
   ]
  },
  {
   "cell_type": "code",
   "execution_count": null,
   "metadata": {},
   "outputs": [],
   "source": [
    "markers_root_end_clusters"
   ]
  },
  {
   "cell_type": "code",
   "execution_count": null,
   "metadata": {},
   "outputs": [],
   "source": []
  },
  {
   "cell_type": "code",
   "execution_count": null,
   "metadata": {},
   "outputs": [],
   "source": [
    "# 1) filter by FDR\n",
    "DF1_up <- lapply(markers_root_end_clusters\n",
    "      , function(x) apply(x , 2, function(y) subset(x, FDR < 0.05))$FDR          \n",
    "            )\n",
    "# 2) subset all columns with logFC, summary.logFC is not important because it reflects \n",
    "#               one of the logFC.# columns\n",
    "DF2_up<-lapply(DF1_up\n",
    "      , function(x) apply(x , 2, function(y) x[ , grepl( \"logFC\", names(x))])$FDR\n",
    "            )\n",
    "            \n",
    "# 3) subset logFC > 0.58 , here we use \"all\" function which means all of\n",
    "#             the logFC columns must be satisfied!\n",
    "            \n",
    "DF3_up<-lapply(DF2_up\n",
    "      , function(x) x[apply(x , 1, function(y) all(y > 0.58)) ,]\n",
    "            ) \n",
    "# 4) order based on summary.logFC\n",
    "DF4_up<-lapply(DF3_up\n",
    "      , function(x) x[order(x$summary.logFC, decreasing = T),]    \n",
    "            )\n",
    "# 5) add all of the original columns with the new subset                     \n",
    "DF5_up<- mapply(function(x, y) list(x[rownames(y),]), DF1_up, DF4_up)\n",
    "                \n",
    "                \n",
    "                \n",
    "# downregulation===============================================================\n",
    "                \n",
    "DF1_down <- lapply(markers_root_end_clusters\n",
    ", function(x) apply(x , 2, function(y) subset(x, FDR < 0.05))$FDR)\n",
    "DF2_down<-lapply(DF1_down\n",
    ", function(x) apply(x , 2, function(y) x[ ,grepl(\"logFC\" ,names(x))])$FDR)\n",
    "DF3_down<-lapply(DF2_down, function(x) x[apply(x , 1, function(y) all(y < -0.58)) ,]) \n",
    "DF4_down<-lapply(DF3_down, function(x) x[order(x$summary.logFC, decreasing = F),])\n",
    "DF5_down<- mapply(function(x, y) list(x[rownames(y),]), DF1_down, DF4_down)                   "
   ]
  },
  {
   "cell_type": "code",
   "execution_count": null,
   "metadata": {},
   "outputs": [],
   "source": [
    "write.csv(DF5_up[[3]],\"progeny/Kira_prog_ETV_root1_vs_others_upreg.csv\")\n",
    "write.csv(DF5_down[[3]],\"progeny/Kira_prog_ETV_root1_vs_others_downreg.csv\")\n",
    "\n",
    "write.csv(DF5_up[[1]],\"progeny/Kira_prog_ETV_Endpoint1_vs_others_upreg.csv\")\n",
    "write.csv(DF5_down[[1]],\"progeny/Kira_prog_ETV_Endpoint1_vs_others_downreg.csv\")\n",
    "\n",
    "write.csv(DF5_up[[2]],\"progeny/Kira_prog_ETV_Endpoint2_vs_others_upreg.csv\")\n",
    "write.csv(DF5_down[[2]],\"progeny/Kira_prog_ETV_Endpoint2_vs_others_downreg.csv\")\n"
   ]
  },
  {
   "cell_type": "code",
   "execution_count": null,
   "metadata": {},
   "outputs": [],
   "source": []
  },
  {
   "cell_type": "code",
   "execution_count": null,
   "metadata": {},
   "outputs": [],
   "source": []
  },
  {
   "cell_type": "code",
   "execution_count": null,
   "metadata": {},
   "outputs": [],
   "source": [
    "# conditon 2"
   ]
  },
  {
   "cell_type": "code",
   "execution_count": null,
   "metadata": {},
   "outputs": [],
   "source": [
    "# if we don't want to compare vs all of the logFC columns"
   ]
  },
  {
   "cell_type": "code",
   "execution_count": null,
   "metadata": {},
   "outputs": [],
   "source": [
    "# selective"
   ]
  },
  {
   "cell_type": "code",
   "execution_count": null,
   "metadata": {},
   "outputs": [],
   "source": [
    "#  selective \n",
    "markers_root_end_clusters2<-markers_root_end_clusters\n",
    "markers_root_end_clusters2[[2]]<-NULL\n",
    "not_req<-names(markers_root_end_clusters2)[2]\n",
    "not_req_col<-paste(\"logFC\",not_req,sep = \".\")\n",
    "not_req_col\n",
    "\n",
    "# 1) filter by FDR\n",
    "df1_up <- lapply(markers_root_end_clusters2\n",
    "      , function(x) apply(x , 2, function(y) subset(x, FDR < 0.05))$FDR          \n",
    "                        )\n",
    "                 \n",
    "# 2) remove unwanted column             \n",
    "df1_1_up <- lapply(df1_up, function(x) { x[not_req_col] <- NULL; x })\n",
    "                 \n",
    "                 \n",
    "# 3) since summary.logFC might have values from logFC.unwanted column we remove it\n",
    "#               we also remove Top column by -c(1) but keep other columns\n",
    "df1_2_up <- lapply(df1_1_up, function(x) { x[\"summary.logFC\"] <- NULL; x }[,-c(1)])\n",
    "df1_3_up<-lapply(df1_2_up\n",
    "      , function(x) apply(x , 2, function(y) x[ , grepl( \"logFC\", names(x))])$FDR\n",
    "            )\n",
    "     \n",
    "                 \n",
    "# 4) subset logFC > 0.58 , here we use \"any\" function which means either of\n",
    "#             the logFC columns must be satisfied! so in the first two columns\n",
    "#               (p.value and FDR), it certainly is not satisfied so it only needs \n",
    "#               to be satisfied in logFC column\n",
    "            \n",
    "df2_up<-lapply(df1_3_up\n",
    "      , function(x) x[apply(x  , 1, function(y) all( y > 0.58)) ,]\n",
    "                          )                      \n",
    "      \n",
    "                      \n",
    "# 5) add all of the original columns with the new subset                     \n",
    "df3_up<- mapply(function(x, y) list(x[rownames(y),]), df1_up, df2_up)\n",
    "\n",
    "# 6) order based on the summary.logFC                         \n",
    "df4_up<-lapply(df3_up, function(x) x[order(x$summary.logFC, decreasing = T),])\n",
    "                             \n",
    "                \n",
    "#  downregulation==============================================================\n",
    "                \n",
    "\n",
    "df1_down <- lapply(markers_root_end_clusters2\n",
    "        , function(x) apply(x , 2, function(y) subset(x, FDR < 0.05))$FDR)              \n",
    "df1_1_down <- lapply(df1_down, function(x) { x[not_req_col] <- NULL; x })\n",
    "df1_2_down <- lapply(df1_1_down, function(x) { x[\"summary.logFC\"] <- NULL; x }[,-c(1)])\n",
    "df1_3_down<-lapply(df1_2_down\n",
    "      , function(x) apply(x , 2, function(y) x[ , grepl( \"logFC\", names(x))])$FDR\n",
    "            )\n",
    "                            \n",
    "df2_down<-lapply(df1_3_down, function(x) x[apply(x  , 1, function(y) all( y < -0.58)) ,]) \n",
    "df3_down<- mapply(function(x, y) list(x[rownames(y),]), df1_down, df2_down)\n",
    "df4_down<-lapply(df3_down, function(x) x[order(x$summary.logFC, decreasing = F),])\n",
    "                \n",
    "                "
   ]
  },
  {
   "cell_type": "code",
   "execution_count": null,
   "metadata": {},
   "outputs": [],
   "source": [
    "write.csv(df4_up[[1]],\"progeny/Kira_prog_ETV_Endpoint1_vs_Root1_upreg.csv\")\n",
    "write.csv(df4_down[[1]],\"progeny/Kira_prog_ETV_Endpoint1_vs_Root1_downreg.csv\")\n"
   ]
  },
  {
   "cell_type": "code",
   "execution_count": null,
   "metadata": {},
   "outputs": [],
   "source": []
  },
  {
   "cell_type": "code",
   "execution_count": null,
   "metadata": {},
   "outputs": [],
   "source": [
    "# conditon 3\n",
    "# we want only afew clusters vs other subset of clusters not all"
   ]
  },
  {
   "cell_type": "code",
   "execution_count": null,
   "metadata": {},
   "outputs": [],
   "source": [
    "# only poor clusters 1 2 6 7 \n",
    "markers_root_end_clusters2<-same.markers\n",
    "not_req<-names(markers_root_end_clusters2)[c(4,9,10,11,12,13,14,15,16,17)]\n",
    "not_req_col<-paste(\"logFC\",not_req,sep = \".\")\n",
    "not_req_col\n",
    "# vs All rich clusters 3 5 8\n",
    "against_req<- c(3,5,8)                         \n",
    "against_req_col<-paste(\"logFC\",against_req,sep = \".\")\n",
    "against_req_col_2<-gsub(\"logFC\",\"req_logFC\",against_req_col)\n",
    "against_req_col\n",
    "against_req_col_2\n",
    "\n",
    "# =======================\n",
    "df1_up <- lapply(markers_root_end_clusters2, function(x) { x[not_req_col] <- NULL; x })\n",
    "\n",
    "df1_1_up <- lapply(df1_up\n",
    "      , function(x) apply(x , 2, function(y) subset(x, FDR <= 0.05))$FDR)                        \n",
    "\n",
    "# we rename colnames that need to be compared with                          \n",
    "library(qdap)                      \n",
    "df1_2_up <- lapply(df1_1_up, function(x) {\n",
    "                 names(x)<- mgsub(against_req_col,against_req_col_2,names(x))  \n",
    "  x\n",
    "})\n",
    "                          \n",
    "df1_3_up<-lapply(df1_2_up\n",
    "      , function(x) apply(x , 2, function(y) x[ , grepl(\"req_logFC\", names(x))])$FDR)\n",
    "df2_up<-lapply(df1_3_up\n",
    "      , function(x) x[apply(x  , 1, function(y) all( y >= 0.58)) ,])                                        \n",
    "df3_up<- mapply(function(x, y) list(x[rownames(y),]), df1_up, df2_up)                       \n",
    "df4_up<-lapply(df3_up, function(x) x[order(x$summary.logFC, decreasing = T),])\n",
    "# #  downregulation==============================================================\n",
    "df1_down <- lapply(markers_root_end_clusters2, function(x) { x[not_req_col] <- NULL; x })\n",
    "\n",
    "df1_1_down <- lapply(df1_down\n",
    "      , function(x) apply(x , 2, function(y) subset(x, FDR <= 0.05))$FDR)                        \n",
    "                          \n",
    "df1_2_down <- lapply(df1_1_down, function(x) {\n",
    "                 names(x)<- mgsub(against_req_col,against_req_col_2,names(x))  \n",
    "  x\n",
    "})\n",
    "                          \n",
    "df1_3_down<-lapply(df1_2_down\n",
    "      , function(x) apply(x , 2, function(y) x[ , grepl(\"req_logFC\", names(x))])$FDR)\n",
    "df2_down<-lapply(df1_3_down\n",
    "      , function(x) x[apply(x  , 1, function(y) all( y <= -0.58)) ,])                                        \n",
    "df3_down<- mapply(function(x, y) list(x[rownames(y),]), df1_down, df2_down )                      \n",
    "df4_down<-lapply(df3_down, function(x) x[order(x$summary.logFC, decreasing = F),])"
   ]
  }
 ],
 "metadata": {
  "kernelspec": {
   "display_name": "R",
   "language": "R",
   "name": "ir"
  },
  "language_info": {
   "codemirror_mode": "r",
   "file_extension": ".r",
   "mimetype": "text/x-r-source",
   "name": "R",
   "pygments_lexer": "r",
   "version": "4.0.4"
  }
 },
 "nbformat": 4,
 "nbformat_minor": 4
}
